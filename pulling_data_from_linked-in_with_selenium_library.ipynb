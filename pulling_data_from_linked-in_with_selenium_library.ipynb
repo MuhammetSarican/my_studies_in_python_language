{
 "cells": [
  {
   "cell_type": "markdown",
   "id": "2685dfcc",
   "metadata": {},
   "source": [
    "# Pulling Data from Linked-In"
   ]
  },
  {
   "cell_type": "code",
   "execution_count": 13,
   "id": "849bbfd1",
   "metadata": {
    "scrolled": true
   },
   "outputs": [
    {
     "name": "stderr",
     "output_type": "stream",
     "text": [
      "C:\\Users\\Muhammet\\AppData\\Local\\Temp/ipykernel_3048/1563577155.py:14: DeprecationWarning: find_element_by_xpath is deprecated. Please use find_element(by=By.XPATH, value=xpath) instead\n",
      "  login=browser.find_element_by_xpath(\"/html/body/nav/div/a[2]\")\n",
      "C:\\Users\\Muhammet\\AppData\\Local\\Temp/ipykernel_3048/1563577155.py:18: DeprecationWarning: find_element_by_xpath is deprecated. Please use find_element(by=By.XPATH, value=xpath) instead\n",
      "  email=browser.find_element_by_xpath(\"//*[@id='username']\")\n",
      "C:\\Users\\Muhammet\\AppData\\Local\\Temp/ipykernel_3048/1563577155.py:19: DeprecationWarning: find_element_by_xpath is deprecated. Please use find_element(by=By.XPATH, value=xpath) instead\n",
      "  password=browser.find_element_by_xpath(\"//*[@id='password']\")\n"
     ]
    },
    {
     "name": "stdout",
     "output_type": "stream",
     "text": [
      "Emailinizi girin:\n",
      "muhammetsarican@gmail.com\n",
      "Şifrenizi girin:\n",
      "lms7105158\n"
     ]
    },
    {
     "name": "stderr",
     "output_type": "stream",
     "text": [
      "C:\\Users\\Muhammet\\AppData\\Local\\Temp/ipykernel_3048/1563577155.py:26: DeprecationWarning: find_element_by_css_selector is deprecated. Please use find_element(by=By.CSS_SELECTOR, value=css_selector) instead\n",
      "  oturum_ac=browser.find_element_by_css_selector(\"#organic-div > form > div.login__form_action_container > button\")\n",
      "C:\\Users\\Muhammet\\AppData\\Local\\Temp/ipykernel_3048/1563577155.py:31: DeprecationWarning: find_element_by_xpath is deprecated. Please use find_element(by=By.XPATH, value=xpath) instead\n",
      "  search_bar=browser.find_element_by_xpath(\"//*[@id='global-nav-typeahead']/input\")\n",
      "C:\\Users\\Muhammet\\AppData\\Local\\Temp/ipykernel_3048/1563577155.py:36: DeprecationWarning: find_element_by_xpath is deprecated. Please use find_element(by=By.XPATH, value=xpath) instead\n",
      "  my_network=browser.find_element_by_xpath(\"//*[@id='global-nav']/div/nav/ul/li[2]\")\n",
      "C:\\Users\\Muhammet\\AppData\\Local\\Temp/ipykernel_3048/1563577155.py:41: DeprecationWarning: find_element_by_class_name is deprecated. Please use find_element(by=By.CLASS_NAME, value=name) instead\n",
      "  my_network_button=browser.find_element_by_class_name(\"mn-community-summary__entity-info\")\n",
      "C:\\Users\\Muhammet\\AppData\\Local\\Temp/ipykernel_3048/1563577155.py:50: DeprecationWarning: find_elements_by_class_name is deprecated. Please use find_elements(by=By.CLASS_NAME, value=name) instead\n",
      "  my_connections=browser.find_elements_by_class_name(\"mn-connection-card__details\")\n"
     ]
    }
   ],
   "source": [
    "from selenium import webdriver\n",
    "from selenium.webdriver.edge.service import Service\n",
    "import time\n",
    "from selenium.webdriver.common.keys import Keys\n",
    "\n",
    "service=Service('driver.exe')\n",
    "options=webdriver.EdgeOptions()\n",
    "browser=webdriver.Edge(service=service,options=options)\n",
    "browser.get(\"https://www.linkedin.com/\")\n",
    "\n",
    "browser.fullscreen_window()\n",
    "time.sleep(2)\n",
    "\n",
    "login=browser.find_element_by_xpath(\"/html/body/nav/div/a[2]\")\n",
    "login.click()\n",
    "time.sleep(3)\n",
    "\n",
    "email=browser.find_element_by_xpath(\"//*[@id='username']\")\n",
    "password=browser.find_element_by_xpath(\"//*[@id='password']\")\n",
    "\n",
    "mail=input(\"Emailinizi girin:\\n\")\n",
    "email.send_keys(mail)\n",
    "pswd=input(\"Şifrenizi girin:\\n\")\n",
    "password.send_keys(pswd)\n",
    "\n",
    "oturum_ac=browser.find_element_by_css_selector(\"#organic-div > form > div.login__form_action_container > button\")\n",
    "oturum_ac.click()\n",
    "\n",
    "time.sleep(5)\n",
    "\n",
    "search_bar=browser.find_element_by_xpath(\"//*[@id='global-nav-typeahead']/input\")\n",
    "search_bar.send_keys(\"#python\")\n",
    "search_bar.send_keys(Keys.RETURN)\n",
    "time.sleep(5)\n",
    "\n",
    "my_network=browser.find_element_by_xpath(\"//*[@id='global-nav']/div/nav/ul/li[2]\")\n",
    "my_network.click()\n",
    "\n",
    "time.sleep(3)\n",
    "\n",
    "my_network_button=browser.find_element_by_class_name(\"mn-community-summary__entity-info\")\n",
    "my_network_button.click()\n",
    "\n",
    "time.sleep(3)\n",
    "\n",
    "for i in range(1,3):\n",
    "    browser.execute_script('window.scrollTo(0,document.body.scrollHeight)')\n",
    "    time.sleep(3) \n",
    "\n",
    "my_connections=browser.find_elements_by_class_name(\"mn-connection-card__details\")\n",
    "followerList=[]\n",
    "\n",
    "for connects in my_connections:\n",
    "    followerList.append(connects.text)\n",
    "\n",
    "with open(\"myconnects.txt\",\"w\",encoding=\"UTF-8\")as file:\n",
    "    file.write(\"My Connections:\\n\\n\")\n",
    "    for connect in followerList:\n",
    "        file.write(connect+\"\\n\\n\")\n",
    "time.sleep(5)\n",
    "\n",
    "browser.quit()"
   ]
  },
  {
   "cell_type": "code",
   "execution_count": 6,
   "id": "7dbe6752",
   "metadata": {},
   "outputs": [
    {
     "data": {
      "text/plain": [
       "'127.0.0.1'"
      ]
     },
     "execution_count": 6,
     "metadata": {},
     "output_type": "execute_result"
    }
   ],
   "source": [
    "import sys,os,os.path\n",
    "# os.environ.pop(\"HTTP_PROXY\")"
   ]
  },
  {
   "cell_type": "code",
   "execution_count": 7,
   "id": "b275c386",
   "metadata": {},
   "outputs": [
    {
     "ename": "KeyError",
     "evalue": "'HTTP_PROXY'",
     "output_type": "error",
     "traceback": [
      "\u001b[1;31m---------------------------------------------------------------------------\u001b[0m",
      "\u001b[1;31mKeyError\u001b[0m                                  Traceback (most recent call last)",
      "\u001b[1;32m~\\AppData\\Local\\Temp/ipykernel_3048/3803414489.py\u001b[0m in \u001b[0;36m<module>\u001b[1;34m\u001b[0m\n\u001b[1;32m----> 1\u001b[1;33m \u001b[0mprint\u001b[0m\u001b[1;33m(\u001b[0m\u001b[0mos\u001b[0m\u001b[1;33m.\u001b[0m\u001b[0menviron\u001b[0m\u001b[1;33m[\u001b[0m\u001b[1;34m'HTTP_PROXY'\u001b[0m\u001b[1;33m]\u001b[0m\u001b[1;33m)\u001b[0m\u001b[1;33m\u001b[0m\u001b[1;33m\u001b[0m\u001b[0m\n\u001b[0m",
      "\u001b[1;32mD:\\anaconda3\\lib\\os.py\u001b[0m in \u001b[0;36m__getitem__\u001b[1;34m(self, key)\u001b[0m\n\u001b[0;32m    677\u001b[0m         \u001b[1;32mexcept\u001b[0m \u001b[0mKeyError\u001b[0m\u001b[1;33m:\u001b[0m\u001b[1;33m\u001b[0m\u001b[1;33m\u001b[0m\u001b[0m\n\u001b[0;32m    678\u001b[0m             \u001b[1;31m# raise KeyError with the original key value\u001b[0m\u001b[1;33m\u001b[0m\u001b[1;33m\u001b[0m\u001b[0m\n\u001b[1;32m--> 679\u001b[1;33m             \u001b[1;32mraise\u001b[0m \u001b[0mKeyError\u001b[0m\u001b[1;33m(\u001b[0m\u001b[0mkey\u001b[0m\u001b[1;33m)\u001b[0m \u001b[1;32mfrom\u001b[0m \u001b[1;32mNone\u001b[0m\u001b[1;33m\u001b[0m\u001b[1;33m\u001b[0m\u001b[0m\n\u001b[0m\u001b[0;32m    680\u001b[0m         \u001b[1;32mreturn\u001b[0m \u001b[0mself\u001b[0m\u001b[1;33m.\u001b[0m\u001b[0mdecodevalue\u001b[0m\u001b[1;33m(\u001b[0m\u001b[0mvalue\u001b[0m\u001b[1;33m)\u001b[0m\u001b[1;33m\u001b[0m\u001b[1;33m\u001b[0m\u001b[0m\n\u001b[0;32m    681\u001b[0m \u001b[1;33m\u001b[0m\u001b[0m\n",
      "\u001b[1;31mKeyError\u001b[0m: 'HTTP_PROXY'"
     ]
    }
   ],
   "source": [
    "print(os.environ['HTTP_PROXY'])"
   ]
  }
 ],
 "metadata": {
  "kernelspec": {
   "display_name": "Python 3 (ipykernel)",
   "language": "python",
   "name": "python3"
  },
  "language_info": {
   "codemirror_mode": {
    "name": "ipython",
    "version": 3
   },
   "file_extension": ".py",
   "mimetype": "text/x-python",
   "name": "python",
   "nbconvert_exporter": "python",
   "pygments_lexer": "ipython3",
   "version": "3.9.7"
  }
 },
 "nbformat": 4,
 "nbformat_minor": 5
}
